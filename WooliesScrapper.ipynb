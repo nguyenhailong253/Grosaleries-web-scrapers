{
 "cells": [
  {
   "cell_type": "code",
   "execution_count": 1,
   "metadata": {},
   "outputs": [
    {
     "name": "stdout",
     "output_type": "stream",
     "text": [
      "Requirement already satisfied: bs4 in c:\\users\\ultabook\\appdata\\local\\programs\\python\\python37-32\\lib\\site-packages (0.0.1)\n",
      "Requirement already satisfied: beautifulsoup4 in c:\\users\\ultabook\\appdata\\local\\programs\\python\\python37-32\\lib\\site-packages (from bs4) (4.7.1)\n",
      "Requirement already satisfied: soupsieve>=1.2 in c:\\users\\ultabook\\appdata\\local\\programs\\python\\python37-32\\lib\\site-packages (from beautifulsoup4->bs4) (1.9)\n",
      "Note: you may need to restart the kernel to use updated packages.\n"
     ]
    }
   ],
   "source": [
    "pip install bs4"
   ]
  },
  {
   "cell_type": "code",
   "execution_count": 2,
   "metadata": {},
   "outputs": [
    {
     "name": "stdout",
     "output_type": "stream",
     "text": [
      "Requirement already satisfied: selenium in c:\\users\\ultabook\\appdata\\local\\programs\\python\\python37-32\\lib\\site-packages (3.141.0)\n",
      "Requirement already satisfied: urllib3 in c:\\users\\ultabook\\appdata\\local\\programs\\python\\python37-32\\lib\\site-packages (from selenium) (1.24.1)\n",
      "Note: you may need to restart the kernel to use updated packages.\n"
     ]
    }
   ],
   "source": [
    "pip install selenium"
   ]
  },
  {
   "cell_type": "code",
   "execution_count": 29,
   "metadata": {},
   "outputs": [],
   "source": [
    "from bs4 import BeautifulSoup as soup\n",
    "from selenium import webdriver\n",
    "from urllib.request import urlopen\n",
    "from time import sleep\n",
    "import json"
   ]
  },
  {
   "cell_type": "code",
   "execution_count": 50,
   "metadata": {},
   "outputs": [],
   "source": [
    "def scrapping(container_soup):\n",
    "    #containers = page_soup.findAll('div',{'class': 'shelfProductTile-information'})\n",
    "    \n",
    "    containers = container_soup\n",
    "    print('Total items in this page: ' + str(len(containers)))\n",
    "    print('')\n",
    "    \n",
    "    arr = []\n",
    "    for container in containers:\n",
    "        product_name = container.find('h3', {'class':'shelfProductTile-description'}).text.strip()\n",
    "        supermarket_name = 'Woolsworth'\n",
    "        availability = True\n",
    "        if(container.find('div', {'class': 'shelfProductTile-cupPrice'})):\n",
    "            price = container.find('div', {'class': 'shelfProductTile-cupPrice'}).text.strip()\n",
    "        elif(container.find('span', {'class':'price-dollars'})):\n",
    "            price_dollar = container.find('span',{'class':'price-dollars'})\n",
    "            price_cent = container.find('span', {'class': 'price-cents'})\n",
    "            price = '$' + price_dollar.text + '.' + price_cent.text\n",
    "        else:\n",
    "            price = 'Unavailable at the momment'\n",
    "            availability = False\n",
    "        \n",
    "        obj = {\n",
    "            \"supermarket_name\": supermarket_name,\n",
    "            \"product_name\": product_name,\n",
    "            \"price\": price,\n",
    "            \"availability\": availability\n",
    "        }\n",
    "        \n",
    "        arr.append(obj)\n",
    "    return arr"
   ]
  },
  {
   "cell_type": "code",
   "execution_count": 51,
   "metadata": {},
   "outputs": [
    {
     "name": "stdout",
     "output_type": "stream",
     "text": [
      "page 1: https://www.woolworths.com.au/shop/browse/fruit-veg/vegetables?pageNumber=1\n",
      "Total items in this page: 43\n",
      "\n",
      "page 2: https://www.woolworths.com.au/shop/browse/fruit-veg/vegetables?pageNumber=2\n",
      "Total items in this page: 48\n",
      "\n",
      "page 3: https://www.woolworths.com.au/shop/browse/fruit-veg/vegetables?pageNumber=3\n",
      "Total items in this page: 52\n",
      "\n",
      "page 4: https://www.woolworths.com.au/shop/browse/fruit-veg/vegetables?pageNumber=4\n",
      "Total items in this page: 52\n",
      "\n",
      "page 5: https://www.woolworths.com.au/shop/browse/fruit-veg/vegetables?pageNumber=5\n",
      "Total items in this page: 56\n",
      "\n",
      "page 6: https://www.woolworths.com.au/shop/browse/fruit-veg/vegetables?pageNumber=6\n",
      "Total items in this page: 56\n",
      "\n",
      "page 7: https://www.woolworths.com.au/shop/browse/fruit-veg/vegetables?pageNumber=7\n",
      "Total items in this page: 22\n",
      "\n",
      "page 8: https://www.woolworths.com.au/shop/browse/fruit-veg/vegetables?pageNumber=8\n",
      "Total items in this page: 0\n",
      "\n",
      "page 9: https://www.woolworths.com.au/shop/browse/fruit-veg/vegetables?pageNumber=9\n",
      "Total items in this page: 0\n",
      "\n",
      "page 10: https://www.woolworths.com.au/shop/browse/fruit-veg/vegetables?pageNumber=10\n",
      "Total items in this page: 0\n",
      "\n",
      "page 1: https://www.woolworths.com.au/shop/browse/fruit-veg/fruit?pageNumber=1\n",
      "Total items in this page: 46\n",
      "\n",
      "page 2: https://www.woolworths.com.au/shop/browse/fruit-veg/fruit?pageNumber=2\n",
      "Total items in this page: 54\n",
      "\n",
      "page 3: https://www.woolworths.com.au/shop/browse/fruit-veg/fruit?pageNumber=3\n",
      "Total items in this page: 36\n",
      "\n",
      "page 4: https://www.woolworths.com.au/shop/browse/fruit-veg/fruit?pageNumber=4\n",
      "Total items in this page: 0\n",
      "\n",
      "465\n"
     ]
    }
   ],
   "source": [
    "options = webdriver.ChromeOptions()\n",
    "options.add_argument(\"--start-maximized\")\n",
    "driver = webdriver.Chrome(executable_path=r'C:/Users/Ultabook/Downloads/chromedriver_win32/chromedriver.exe',options=options)\n",
    "arr = []\n",
    "\n",
    "for i in range(1,8): #number of pages plus one\n",
    "    url = 'https://www.woolworths.com.au/shop/browse/fruit-veg/vegetables?pageNumber=' + str(i)\n",
    "    print('page ' + str(i) + \": \" + url)\n",
    "    driver.get(url)\n",
    "    sleep(10)\n",
    "    html = driver.page_source\n",
    "    page_soup = soup(html, 'html.parser')\n",
    "    \n",
    "    container_soup = page_soup.findAll('div', {'class': 'shelfProductTile-information'})\n",
    "    arrSinglePage = scrapping(container_soup)\n",
    "    for obj in arrSinglePage:\n",
    "        arr.append(obj)\n",
    "        \n",
    "for i in range(1,4):\n",
    "    url = 'https://www.woolworths.com.au/shop/browse/fruit-veg/fruit?pageNumber=' + str(i)\n",
    "    print('page ' + str(i) + \": \" + url)\n",
    "    driver.get(url)\n",
    "    sleep(10)\n",
    "    html = driver.page_source\n",
    "    page_soup = soup(html, 'html.parser')\n",
    "    \n",
    "    container_soup = page_soup.findAll('div', {'class': 'shelfProductTile-information'})\n",
    "    arrSinglePage = scrapping(container_soup)\n",
    "    for obj in arrSinglePage:\n",
    "        arr.append(obj)    \n",
    "    \n",
    "with open('wooliesData.json', 'w') as outfile:\n",
    "    json.dump(arr, outfile)\n",
    "\n",
    "print(len(arr))"
   ]
  },
  {
   "cell_type": "code",
   "execution_count": null,
   "metadata": {},
   "outputs": [],
   "source": []
  }
 ],
 "metadata": {
  "kernelspec": {
   "display_name": "Python 3",
   "language": "python",
   "name": "python3"
  },
  "language_info": {
   "codemirror_mode": {
    "name": "ipython",
    "version": 3
   },
   "file_extension": ".py",
   "mimetype": "text/x-python",
   "name": "python",
   "nbconvert_exporter": "python",
   "pygments_lexer": "ipython3",
   "version": "3.7.0"
  }
 },
 "nbformat": 4,
 "nbformat_minor": 2
}
